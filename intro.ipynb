{
 "cells": [
  {
   "cell_type": "markdown",
   "metadata": {},
   "source": [
    "# SciKit-Fuzzy"
   ]
  },
  {
   "cell_type": "markdown",
   "metadata": {},
   "source": [
    "Scikit-Fuzzy is a collection of fuzzy logic algorithms intended for use in the SciPy Stack, written in the Python computing language.\n",
    "\n",
    "This SciKit is developed by the SciPy community. Contributions are welcome! Please join us on the mailing list or our persistent chatroom on Gitter.IM."
   ]
  },
  {
   "cell_type": "markdown",
   "metadata": {},
   "source": [
    "Homepage and package documentation\n",
    "http://pythonhosted.org/scikit-fuzzy/"
   ]
  },
  {
   "cell_type": "markdown",
   "metadata": {},
   "source": [
    "Source, bugs, and development\n",
    "http://github.com/scikit-fuzzy/scikit-fuzzy"
   ]
  },
  {
   "cell_type": "markdown",
   "metadata": {},
   "source": [
    "Gitter.IM\n",
    "https://gitter.im/scikit-fuzzy/scikit-fuzzy"
   ]
  },
  {
   "cell_type": "markdown",
   "metadata": {},
   "source": [
    "Mailing List\n",
    "http://groups.google.com/group/scikit-fuzzy"
   ]
  }
 ],
 "metadata": {
  "kernelspec": {
   "display_name": "Python 3.9.12 ('scikit_fuzzy_env': venv)",
   "language": "python",
   "name": "python3"
  },
  "language_info": {
   "name": "python",
   "version": "3.9.12"
  },
  "orig_nbformat": 4,
  "vscode": {
   "interpreter": {
    "hash": "b5cf6f45eb9e7b4c1b53bcc0b198708e56206508680a68639dcd20ec83b4b6cb"
   }
  }
 },
 "nbformat": 4,
 "nbformat_minor": 2
}
